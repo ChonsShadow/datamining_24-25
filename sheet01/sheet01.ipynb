{
 "cells": [
  {
   "cell_type": "markdown",
   "id": "a2278fda2cb88afd",
   "metadata": {},
   "source": [
    "# Exercise Sheet 01: Data preprocessing, visualization, correlation, statistical testing, and modeling\n",
    "\n",
    "**Introduction to Data Mining WS24/25**  \n",
    "**Bielefeld University**  \n",
    "**Alina Deriyeva, Adia Khalid, Benjamin Paaßen**  \n",
    "**Exercise Sheet Publication Date: 2024-10-23**  \n",
    "**Exercise Sheet Submission Deadline: Friday, 2024-11-01, noon (i.e. 12:00), via moodle**\n",
    "\n",
    "**NOTE** The use of language models/AI tools is permitted under three conditions\n",
    "1. transparency: you tell us that you used them\n",
    "2. accountability: you take full responsibility for the submission, can explain and defend it\n",
    "3. privacy: you do not transmit any private information to any external tool\n",
    "\n",
    "We also appreciate it if you link to a chatlog of the interaction with the language model/AI tool for research purposes."
   ]
  },
  {
   "cell_type": "markdown",
   "id": "992e878f84c6b90f",
   "metadata": {},
   "source": [
    "## Probabilistic Modeling\n",
    "\n",
    "Let's assume that a student does a test on a single topic in which they can achieve a certain number of points. Let's further assume that the probability that the student has understood the topic is denoted as $p \\in [0, 1]$. Finally, let's assume that the number of points on the test Gaussian distributed with standard deviation $\\sigma > 0$. However, the mean of the distribution depends on whether the student has understood the topic or not."
   ]
  },
  {
   "cell_type": "markdown",
   "id": "76c23b3fdfe034f8",
   "metadata": {},
   "source": [
    "### Task 01.01\n",
    "\n",
    "Formalize this scenario. In particular:\n",
    "1. Model a random variable $Z$ that indicates whether the student understood the topic or not. What is the domain? What is the probability mass function $p_Z$? What are the parameters of this function?\n",
    "2. Model a random variable $X$ for the number of points the student achieves on the test. What is the conditional probability density function $p_{X|Z}$? What are the parameters of this function?\n",
    "\n",
    "#### Sub-task 1\n",
    "$Z = (\\mathcal{Z}, p_Z)$\\\n",
    "With $\\mathcal{Z} = \\{0,1\\}$ (domain) and $p_Z: \\mathcal{Z} -> \\mathbb{R}$ (probability mass function)\\\n",
    "For notation, we will just write the parameters of the probability mass function implicitly: \\\n",
    "$p_Z(Z=0) = 1-p\\quad$ and $\\quad p_Z(Z=1) = p$\\\n",
    "\n",
    "<br/><br/>\n",
    "#### Sub-task 2\n",
    "\n",
    "$X = (\\mathcal{X}, p_X)$\\\n",
    "With $\\mathcal{X} = \\{0, ..., N\\}$, with $N$ being the maximum number of points in the test.\\\n",
    "Since the number of points a student achieves is Gaussian distributed with $\\mu$ and $\\sigma > 0$, we can write $p_X$ as \\\n",
    "$p_X(x) = \\dfrac{1}{\\sqrt{2 \\pi \\sigma^2}} \\exp\\left( -\\frac{(x - \\mu)^2}{2 \\sigma^2} \\right)$\\\n",
    "\\\n",
    "We are now interested in the conditional probability density function of X in relation to Z. This just follows from Bayes' Theorem:\\\n",
    "$p_{X|Z}(x\\,|\\,z) = \\dfrac{p_{Z|X}(z\\,|\\,x) \\, p_X(x)}{p_Z(z)}$\\\n",
    "In this case, the parameter $x$ stands for the points achieved, and $z$ wheter or not the student has understood the topic.\n",
    "Once again, we can use the slightly different notation used in Z to make it a bit clearer:\\\n",
    "$p_{X|Z}(X=x\\,|\\,Z=z) = \\dfrac{p_{Z|X}(Z=z\\,|\\,X=x) \\, p_X(X=x)}{p_Z(Z=z)}$\\\n",
    "\n",
    "\n",
    "\n",
    "\n"
   ]
  },
  {
   "cell_type": "markdown",
   "id": "1a330549866ff261",
   "metadata": {},
   "source": [
    "### Task 01.02\n",
    "\n",
    "Using Bayes' theorem and the law of total probability, compute the conditional probability mass $p_{Z|X}(1|x)$ for the student having understood the topic given their achieved number of points.\n",
    "\n",
    "$p_{Z|X}(Z=1\\,|\\,X=x) = \\dfrac{p_{X|Z}(X=x\\,|\\,Z=1) \\, p_Z(Z=1)}{p_X(X=x)} = \\dfrac{p_{X|Z}(X=x\\,|\\,Z=1) \\, p}{p_X(X=x)} = \\dfrac{p_{X|Z}(X=x\\,|\\,Z=1) \\, p}{p_{X|Z}(X=x\\,|\\,Z=0) \\cdot p_Z(Z=0) + p_{X|Z}(X=x\\,|\\,Z=1) \\cdot p_Z(Z=1)}$\\\n",
    "$= \\dfrac{p_{X|Z}(X=x\\,|\\,Z=1) \\, p}{p_{X|Z}(X=x\\,|\\,Z=0) \\cdot (1-p) + p_{X|Z}(X=x\\,|\\,Z=1) \\cdot p}$\n",
    "$= \\dfrac{1}{\\frac{p_{X|Z}(X=x\\,|\\,Z=0)}{p_{X|Z}(X=x\\,|\\,Z=1)} \\cdot \\frac{(1-p)}{p} + 1}$\n",
    "\n",
    "<!-- We can continue to reduce this in size by assuming tgat  p_{X|Z}(X=x\\,|\\,Z=1) and p_{X|Z}(X=x\\,|\\,Z=0) only differentiate by a shifted mean.-->"
   ]
  },
  {
   "cell_type": "markdown",
   "id": "40cb70ec0d785676",
   "metadata": {},
   "source": [
    "### Task 01.03\n",
    "\n",
    "Assume that the numbers $x_1, \\ldots, x_m \\in \\mathbb{R}$ are generated (independently) from a Gaussian with mean $\\mu$ and standard deviation $\\sigma$.\n",
    "\n",
    "1. What is the negative log likelihood of the data under this assumption?\n",
    "2. Prove that $\\mu$ and $\\sigma^2$ which minimize the negative log likelihood are exactly $\\mu = \\frac{1}{m} \\sum_{i=1}^m x_i$ and $\\sigma^2 = \\frac{1}{m} \\sum_{i=1}^m (x_i - \\mu)^2$. You may assume that the negative log likelihood is convex, in this case."
   ]
  },
  {
   "cell_type": "markdown",
   "id": "1ccc33e450c8918b",
   "metadata": {},
   "source": [
    "**ANSWER** PLEASE PROVIDE LATEX CODE OR AN IMAGE OF YOUR DERIVATION HERE"
   ]
  },
  {
   "cell_type": "markdown",
   "id": "d2731d22af8aceb9",
   "metadata": {},
   "source": [
    "## Example data set\n",
    "\n",
    "In this exercise sheet, we investigate first data exploration activities that can be performed on typical, tabular data sets, up to simple statistical testing.\n",
    "\n",
    "The file `sheet01_data.csv` contains fictional data as might be produced in an educational study. Each row represents a student participating in the study. The first column is just the student index, the second column indicates the experimental condition the student was in (`0` for control group, `1` for intervention group). The third column is the student's test result on a pre-test, the fourth column is the student's test result on a post-test.\n",
    "\n",
    "The following line loads this raw data and prints it."
   ]
  },
  {
   "cell_type": "code",
   "execution_count": 5,
   "id": "a286af134d20cc4",
   "metadata": {
    "ExecuteTime": {
     "end_time": "2024-10-26T14:32:10.071422Z",
     "start_time": "2024-10-26T14:32:10.065208Z"
    }
   },
   "outputs": [
    {
     "name": "stdout",
     "output_type": "stream",
     "text": [
      "[[  0.   0.  27.  40.]\n",
      " [  1.   0.  31.  34.]\n",
      " [  2.   0.  30.  nan]\n",
      " [  3.   0.  20.  nan]\n",
      " [  4.   0.  41.  54.]\n",
      " [  5.   0.  39.  51.]\n",
      " [  6.   0.  20.  33.]\n",
      " [  7.   0.  27.  36.]\n",
      " [  8.   0.  79.  83.]\n",
      " [  9.   0.  33.  46.]\n",
      " [ 10.   0.  22.  29.]\n",
      " [ 11.   0.  22.  41.]\n",
      " [ 12.   0.  29.  nan]\n",
      " [ 13.   0.  25.  nan]\n",
      " [ 14.   0.  41.  47.]\n",
      " [ 15.   0.  23.  36.]\n",
      " [ 16.   0.  17.  30.]\n",
      " [ 17.   0.  93. 100.]\n",
      " [ 18.   0.  34.  40.]\n",
      " [ 19.   0.  23.  27.]\n",
      " [ 20.   0.  48.  53.]\n",
      " [ 21.   0.  19.  26.]\n",
      " [ 22.   0.  28.  33.]\n",
      " [ 23.   0.  38.  46.]\n",
      " [ 24.   0.  22.  34.]\n",
      " [ 25.   0.  34.  45.]\n",
      " [ 26.   0.  36.  49.]\n",
      " [ 27.   0.  33.  47.]\n",
      " [ 28.   0.  40.  41.]\n",
      " [ 29.   0.  39.  52.]\n",
      " [ 30.   1.  24.  50.]\n",
      " [ 31.   1.  38.  62.]\n",
      " [ 32.   1.  34.  51.]\n",
      " [ 33.   1.  37.  nan]\n",
      " [ 34.   1.  31.  44.]\n",
      " [ 35.   1.  37.  57.]\n",
      " [ 36.   1.  25.  50.]\n",
      " [ 37.   1.  23.  37.]\n",
      " [ 38.   1.  12.  38.]\n",
      " [ 39.   1.  31.  56.]\n",
      " [ 40.   1.  36.  46.]\n",
      " [ 41.   1.  34.  48.]\n",
      " [ 42.   1.  85. 100.]\n",
      " [ 43.   1.  41.  59.]\n",
      " [ 44.   1.  14.  37.]\n",
      " [ 45.   1.   7.  29.]\n",
      " [ 46.   1.  30.  54.]\n",
      " [ 47.   1.  42.  62.]\n",
      " [ 48.   1.  25.  44.]\n",
      " [ 49.   1.  29.  53.]\n",
      " [ 50.   1.  17.  40.]\n",
      " [ 51.   1.  40.  63.]\n",
      " [ 52.   1.  29.  46.]\n",
      " [ 53.   1.  33.  nan]\n",
      " [ 54.   1.  24.  50.]\n",
      " [ 55.   1.  38.  53.]\n",
      " [ 56.   1.  26.  48.]\n",
      " [ 57.   1.  41.  nan]\n",
      " [ 58.   1.  37.  65.]\n",
      " [ 59.   1.  41.  61.]]\n"
     ]
    }
   ],
   "source": [
    "import numpy as np\n",
    "import matplotlib.pyplot as plt\n",
    "import scipy.stats\n",
    "\n",
    "X = np.loadtxt('sheet01/sheet01_data.csv', skiprows = 1, delimiter = '\\t')\n",
    "print(X)"
   ]
  },
  {
   "cell_type": "markdown",
   "id": "99b8b869442d1724",
   "metadata": {},
   "source": [
    "### Task 01.04\n",
    "\n",
    "Write python code to automatically identify outliers, which are defined as any students with a pre-test score higher than 3 standard deviations above the mean. Write python code that removes these outliers from the data set."
   ]
  },
  {
   "cell_type": "code",
   "execution_count": 6,
   "id": "fec8433bab1934c1",
   "metadata": {
    "ExecuteTime": {
     "end_time": "2024-10-26T14:55:00.749041Z",
     "start_time": "2024-10-26T14:55:00.743455Z"
    }
   },
   "outputs": [
    {
     "name": "stdout",
     "output_type": "stream",
     "text": [
      "[[ 0.  0. 27. 40.]\n",
      " [ 1.  0. 31. 34.]\n",
      " [ 2.  0. 30. nan]\n",
      " [ 3.  0. 20. nan]\n",
      " [ 4.  0. 41. 54.]\n",
      " [ 5.  0. 39. 51.]\n",
      " [ 6.  0. 20. 33.]\n",
      " [ 7.  0. 27. 36.]\n",
      " [ 9.  0. 33. 46.]\n",
      " [10.  0. 22. 29.]\n",
      " [11.  0. 22. 41.]\n",
      " [12.  0. 29. nan]\n",
      " [13.  0. 25. nan]\n",
      " [14.  0. 41. 47.]\n",
      " [15.  0. 23. 36.]\n",
      " [16.  0. 17. 30.]\n",
      " [18.  0. 34. 40.]\n",
      " [19.  0. 23. 27.]\n",
      " [20.  0. 48. 53.]\n",
      " [21.  0. 19. 26.]\n",
      " [22.  0. 28. 33.]\n",
      " [23.  0. 38. 46.]\n",
      " [24.  0. 22. 34.]\n",
      " [25.  0. 34. 45.]\n",
      " [26.  0. 36. 49.]\n",
      " [27.  0. 33. 47.]\n",
      " [28.  0. 40. 41.]\n",
      " [29.  0. 39. 52.]\n",
      " [30.  1. 24. 50.]\n",
      " [31.  1. 38. 62.]\n",
      " [32.  1. 34. 51.]\n",
      " [33.  1. 37. nan]\n",
      " [34.  1. 31. 44.]\n",
      " [35.  1. 37. 57.]\n",
      " [36.  1. 25. 50.]\n",
      " [37.  1. 23. 37.]\n",
      " [38.  1. 12. 38.]\n",
      " [39.  1. 31. 56.]\n",
      " [40.  1. 36. 46.]\n",
      " [41.  1. 34. 48.]\n",
      " [43.  1. 41. 59.]\n",
      " [44.  1. 14. 37.]\n",
      " [45.  1.  7. 29.]\n",
      " [46.  1. 30. 54.]\n",
      " [47.  1. 42. 62.]\n",
      " [48.  1. 25. 44.]\n",
      " [49.  1. 29. 53.]\n",
      " [50.  1. 17. 40.]\n",
      " [51.  1. 40. 63.]\n",
      " [52.  1. 29. 46.]\n",
      " [53.  1. 33. nan]\n",
      " [54.  1. 24. 50.]\n",
      " [55.  1. 38. 53.]\n",
      " [56.  1. 26. 48.]\n",
      " [57.  1. 41. nan]\n",
      " [58.  1. 37. 65.]\n",
      " [59.  1. 41. 61.]]\n"
     ]
    }
   ],
   "source": [
    "pre_scores = np.array(X[:, 2])\n",
    "\n",
    "mean_pre_score = np.mean(pre_scores)\n",
    "std_pre_score = np.std(pre_scores)\n",
    "\n",
    "k_filter = mean_pre_score + 3 * std_pre_score\n",
    "cleaned_X = X[X[:, 2] <= k_filter]\n",
    "print(cleaned_X)"
   ]
  },
  {
   "cell_type": "markdown",
   "id": "8a1d2244ca0584be",
   "metadata": {},
   "source": [
    "Print how many points are left in the control group and the intervention group after outlier removal"
   ]
  },
  {
   "cell_type": "code",
   "execution_count": 7,
   "id": "54817ba5e9acda13",
   "metadata": {
    "ExecuteTime": {
     "end_time": "2024-10-26T14:54:10.511976Z",
     "start_time": "2024-10-26T14:54:10.509239Z"
    }
   },
   "outputs": [
    {
     "name": "stdout",
     "output_type": "stream",
     "text": [
      "Group sizes after outlier removal\n",
      "control: 28 \n",
      "intervention: 29\n"
     ]
    }
   ],
   "source": [
    "cleaned_control = len(cleaned_X[cleaned_X[:, 1] == 0])\n",
    "cleaned_interv = len(cleaned_X[cleaned_X[:, 1] == 1])\n",
    "      \n",
    "print(\"Group sizes after outlier removal\")  \n",
    "print(\"control:\", cleaned_control, \"\\nintervention:\", cleaned_interv)"
   ]
  },
  {
   "cell_type": "markdown",
   "id": "c4cc60afdd8de021",
   "metadata": {},
   "source": [
    "### Task 01.05\n",
    "\n",
    "Write python code to compute the mean pre- and post-test score, as well as the respective standard deviation, of the control group and the intervention group. Be aware of nan values. Print the results."
   ]
  },
  {
   "cell_type": "code",
   "execution_count": 8,
   "id": "f89717f305a6b45a",
   "metadata": {
    "ExecuteTime": {
     "end_time": "2024-10-26T15:02:30.444248Z",
     "start_time": "2024-10-26T15:02:30.435020Z"
    }
   },
   "outputs": [
    {
     "name": "stdout",
     "output_type": "stream",
     "text": [
      "control group, pre-tests: \n",
      "mean:  30.035714285714285 std:  8.033332980495095\n",
      "control group, post-tests: \n",
      "mean:  40.416666666666664 std:  8.396014266040497\n",
      "__________________________________________________\n",
      "intervention group, pre-tests: \n",
      "mean:  30.20689655172414 std:  9.147750092122058\n",
      "intervention group, post-tests: \n",
      "mean:  50.11538461538461 std:  9.069504791319277\n"
     ]
    }
   ],
   "source": [
    "\n",
    "control_group = cleaned_X[cleaned_X[:, 1] == 0]\n",
    "intervention_group = cleaned_X[cleaned_X[:, 1] == 1]\n",
    "\n",
    "# use nps nan functions for calculating metrics to ignore nan values\n",
    "\n",
    "control_pre_mean = np.nanmean(control_group[:, 2])\n",
    "control_pre_std = np.nanstd(control_group[:, 2])\n",
    "control_post_mean = np.nanmean(control_group[:, 3])\n",
    "control_post_std = np.nanstd(control_group[:, 3])\n",
    "\n",
    "intervention_pre_mean = np.nanmean(intervention_group[:, 2])\n",
    "intervention_pre_std = np.nanstd(intervention_group[:, 2])\n",
    "intervention_post_mean = np.nanmean(intervention_group[:, 3])\n",
    "intervention_post_std = np.nanstd(intervention_group[:, 3])\n",
    "\n",
    "print(\"control group, pre-tests: \")\n",
    "print(\"mean: \", control_pre_mean, \"std: \", control_pre_std)\n",
    "print(\"control group, post-tests: \")\n",
    "print(\"mean: \", control_post_mean, \"std: \", control_post_std)\n",
    "print(\"_\"*50)\n",
    "print(\"intervention group, pre-tests: \")\n",
    "print(\"mean: \", intervention_pre_mean, \"std: \", intervention_pre_std)\n",
    "print(\"intervention group, post-tests: \")\n",
    "print(\"mean: \", intervention_post_mean, \"std: \", intervention_post_std)"
   ]
  },
  {
   "cell_type": "markdown",
   "id": "c364a97feca28969",
   "metadata": {},
   "source": [
    "### Task 01.06\n",
    "\n",
    "Write python code to impute the missing values (that means: nan values) in the post test scores by the mean of the data. HOWEVER, the imputation should be done separately for the control and the intervention group."
   ]
  },
  {
   "cell_type": "code",
   "execution_count": 28,
   "id": "8dc780f25ed20ff4",
   "metadata": {
    "ExecuteTime": {
     "end_time": "2024-10-26T15:02:41.745102Z",
     "start_time": "2024-10-26T15:02:41.740642Z"
    }
   },
   "outputs": [
    {
     "name": "stdout",
     "output_type": "stream",
     "text": [
      "[[ 0.          0.         27.         40.        ]\n",
      " [ 1.          0.         31.         34.        ]\n",
      " [ 2.          0.         30.         40.41666667]\n",
      " [ 3.          0.         20.         40.41666667]\n",
      " [ 4.          0.         41.         54.        ]\n",
      " [ 5.          0.         39.         51.        ]\n",
      " [ 6.          0.         20.         33.        ]\n",
      " [ 7.          0.         27.         36.        ]\n",
      " [ 9.          0.         33.         46.        ]\n",
      " [10.          0.         22.         29.        ]\n",
      " [11.          0.         22.         41.        ]\n",
      " [12.          0.         29.         40.41666667]\n",
      " [13.          0.         25.         40.41666667]\n",
      " [14.          0.         41.         47.        ]\n",
      " [15.          0.         23.         36.        ]\n",
      " [16.          0.         17.         30.        ]\n",
      " [18.          0.         34.         40.        ]\n",
      " [19.          0.         23.         27.        ]\n",
      " [20.          0.         48.         53.        ]\n",
      " [21.          0.         19.         26.        ]\n",
      " [22.          0.         28.         33.        ]\n",
      " [23.          0.         38.         46.        ]\n",
      " [24.          0.         22.         34.        ]\n",
      " [25.          0.         34.         45.        ]\n",
      " [26.          0.         36.         49.        ]\n",
      " [27.          0.         33.         47.        ]\n",
      " [28.          0.         40.         41.        ]\n",
      " [29.          0.         39.         52.        ]\n",
      " [30.          1.         24.         50.        ]\n",
      " [31.          1.         38.         62.        ]\n",
      " [32.          1.         34.         51.        ]\n",
      " [33.          1.         37.         50.11538462]\n",
      " [34.          1.         31.         44.        ]\n",
      " [35.          1.         37.         57.        ]\n",
      " [36.          1.         25.         50.        ]\n",
      " [37.          1.         23.         37.        ]\n",
      " [38.          1.         12.         38.        ]\n",
      " [39.          1.         31.         56.        ]\n",
      " [40.          1.         36.         46.        ]\n",
      " [41.          1.         34.         48.        ]\n",
      " [43.          1.         41.         59.        ]\n",
      " [44.          1.         14.         37.        ]\n",
      " [45.          1.          7.         29.        ]\n",
      " [46.          1.         30.         54.        ]\n",
      " [47.          1.         42.         62.        ]\n",
      " [48.          1.         25.         44.        ]\n",
      " [49.          1.         29.         53.        ]\n",
      " [50.          1.         17.         40.        ]\n",
      " [51.          1.         40.         63.        ]\n",
      " [52.          1.         29.         46.        ]\n",
      " [53.          1.         33.         50.11538462]\n",
      " [54.          1.         24.         50.        ]\n",
      " [55.          1.         38.         53.        ]\n",
      " [56.          1.         26.         48.        ]\n",
      " [57.          1.         41.         50.11538462]\n",
      " [58.          1.         37.         65.        ]\n",
      " [59.          1.         41.         61.        ]]\n"
     ]
    }
   ],
   "source": [
    "import math\n",
    "for i, x in enumerate(cleaned_X):\n",
    "    if not math.isnan(x[3]):\n",
    "        continue\n",
    "        \n",
    "    if x[1]:\n",
    "        cleaned_X[i][3] = intervention_post_mean\n",
    "        continue\n",
    "        \n",
    "    cleaned_X[i][3] = control_post_mean\n",
    "\n",
    "# update control- and intervention_group:\n",
    "control_group = cleaned_X[cleaned_X[:, 1] == 0]\n",
    "intervention_group = cleaned_X[cleaned_X[:, 1] == 1]\n",
    "            \n",
    "print(cleaned_X)"
   ]
  },
  {
   "cell_type": "markdown",
   "id": "8648b389d8efbecc",
   "metadata": {},
   "source": [
    "## Data Visualization"
   ]
  },
  {
   "cell_type": "markdown",
   "id": "a75f0f9673d0aac",
   "metadata": {},
   "source": [
    "### Task 01.07\n",
    "\n",
    "Display two scatter plots (via `matplotlib.pyplot.scatter`), one for the control group and one for the intervention group, with pre-test score on the x-axis and post-test score on the y-axis. Label the axis and give the plots titles. Interpret these plot: Do you believe that pre- and post-test score correlate?"
   ]
  },
  {
   "cell_type": "code",
   "execution_count": 29,
   "id": "97ed1b74c4a22a49",
   "metadata": {
    "ExecuteTime": {
     "end_time": "2024-10-26T15:16:59.429459Z",
     "start_time": "2024-10-26T15:16:59.328576Z"
    }
   },
   "outputs": [
    {
     "data": {
      "image/png": "[encoded data removed]",
      "text/plain": [
       "<Figure size 432x288 with 1 Axes>"
      ]
     },
     "metadata": {
      "needs_background": "light"
     },
     "output_type": "display_data"
    }
   ],
   "source": [
    "import matplotlib.pyplot as plt\n",
    "\n",
    "fig = plt.figure()\n",
    "ax1 = fig.add_subplot(111)\n",
    "\n",
    "ax1.scatter(control_group[:, 2], control_group[:, 3], label=\"Control\")\n",
    "ax1.scatter(intervention_group[:, 2], intervention_group[:, 3], label=\"Intervention\")\n",
    "plt.legend(loc='upper left')\n",
    "ax1.set_xlabel('pre-test scores')\n",
    "ax1.set_ylabel('post-test scores')\n",
    "ax1.set_title('Test Scores')\n",
    "ax1.set_xlim([0, 55])\n",
    "ax1.set_ylim([10, 70])\n",
    "plt.show()"
   ]
  },
  {
   "cell_type": "markdown",
   "id": "ecb065e9694b9e0f",
   "metadata": {},
   "source": [
    "**ANSWER:**\n",
    "\n",
    "Yes, pre- and post-test scores do seem to correlate highly. We can easily see (and potentially draw!) a linear function describing the correlation between them.\n",
    "\n",
    "This makes intuitive sense, as somebody who scored higher in the pre-test is more likely to repeat a higher score in the post-test."
   ]
  },
  {
   "cell_type": "markdown",
   "id": "79e43a3326bd9822",
   "metadata": {},
   "source": [
    "### Task 01.08\n",
    "\n",
    "Display a bar plot with four bars (with error bars): pre-test mean (with standard error) for control and intervention group; and post-test mean (with standard error) for control and intervention group. Label the axes. Interpret this plot: Where are significant differences, do you think? What is your explanation for these differences?"
   ]
  },
  {
   "cell_type": "code",
   "execution_count": 30,
   "id": "98a03b0303e8d92f",
   "metadata": {},
   "outputs": [
    {
     "data": {
      "image/png": "[encoded data removed]",
      "text/plain": [
       "<Figure size 720x540 with 1 Axes>"
      ]
     },
     "metadata": {
      "needs_background": "light"
     },
     "output_type": "display_data"
    },
    {
     "name": "stdout",
     "output_type": "stream",
     "text": [
      "[1.546015652926247, 1.4959527999042772, 1.7287622713945119, 1.6229017700901927]\n"
     ]
    }
   ],
   "source": [
    "# sem calculates standard error of the mean\n",
    "control_pre_error = scipy.stats.sem(control_group[:,2])\n",
    "control_post_error = scipy.stats.sem(control_group[:,3])\n",
    "intervention_pre_error = scipy.stats.sem(intervention_group[:,2])\n",
    "intervention_post_error = scipy.stats.sem(intervention_group[:,3])\n",
    "\n",
    "errors = [control_pre_error, control_post_error, intervention_pre_error, intervention_post_error]\n",
    "means = [control_pre_mean, control_post_mean, intervention_pre_mean, intervention_post_mean]\n",
    "lables = [\"control_pre-test\", \"control_post-test\", \"intervention_pre-test\", \"intervention_post-test\"]\n",
    "# blue for pre-tests, pink for post-tests\n",
    "colors = [\"blue\", \"pink\", \"blue\", \"pink\"]\n",
    "\n",
    "\n",
    "fig = plt.figure(figsize=(10,7.5))\n",
    "ax1 = fig.add_subplot(111)\n",
    "ax1.bar(lables, means, color=colors)\n",
    "ax1.set_ylabel('mean test score')\n",
    "ax1.set_title('mean test scores for control and intervention groups')\n",
    "ax1.errorbar(lables, means, errors, fmt='o', color=\"red\")\n",
    "plt.show()\n",
    "\n",
    "print(errors)\n",
    "\n"
   ]
  },
  {
   "cell_type": "markdown",
   "id": "cbfb93a02ce45dae",
   "metadata": {},
   "source": [
    "**ANSWER:**\n",
    "The means of both pre-tests seem to be almost identical. Considering that at that point both groups should have a similar level of knowledge, this is not surprising.<br>\n",
    "The mean for the post-test scores in the control group is clearly higher than those of the pretests. This does make sense, since the students probably already learned something by taking the pre-test and on top of that they may have been studying on their own inbetween both tests.<br>\n",
    "The mean for the post-test scores in the intervention group is even higher, suggesting that the intervention may have had a significant positive effect. In any case it shows that students in that group learned more between the tests, than those in the control group, that didn't come into contact with the intervention.<br>\n",
    "The std-errors of the means do not seem to differ enough to give them meaning."
   ]
  },
  {
   "cell_type": "markdown",
   "id": "7733b34dc0efdd75",
   "metadata": {},
   "source": [
    "### Task 01.09\n",
    "\n",
    "Display a bar plot with two bars (with error bars): the average difference between post- and pre-test score for the control group (with standard error) and for the intervention group (with standard error). Label the axes. Interpret this plot: Do you think the difference of post- and pre-test scores significantly differs between control and intervention group?"
   ]
  },
  {
   "cell_type": "code",
   "execution_count": null,
   "id": "682fa14e62019702",
   "metadata": {},
   "outputs": [],
   "source": []
  },
  {
   "cell_type": "markdown",
   "id": "c4729c1596c03047",
   "metadata": {},
   "source": [
    "**ANSWER:** "
   ]
  },
  {
   "cell_type": "markdown",
   "id": "c75aad4fcb80b383",
   "metadata": {},
   "source": [
    "## Statistical Testing"
   ]
  },
  {
   "cell_type": "markdown",
   "id": "bc2b3ac43828fb58",
   "metadata": {},
   "source": [
    "### Task 01.10\n",
    "\n",
    "Write a python function to compute the Pearson correlation between two arrays of the same size."
   ]
  },
  {
   "cell_type": "code",
   "execution_count": 2,
   "id": "42c01e1a2fd67749",
   "metadata": {},
   "outputs": [],
   "source": [
    "def pearsonr(x, y):\n",
    "    # TODO IMPLEMENT THIS FUNCTION\n",
    "    return None "
   ]
  },
  {
   "cell_type": "markdown",
   "id": "ce8c8590712a3f82",
   "metadata": {},
   "source": [
    "### Task 01.11\n",
    "\n",
    "Use your function to compute the Pearson correlation between pre-test and post-test scores for both control and intervention condition and print the scores.\n",
    "\n",
    "Interpret the strength of the correlation using the following rule of thumb from [Mukaka (2012)](https://www.ajol.info/index.php/mmj/article/download/81576/71739):\n",
    "\n",
    "* A correlation of $0.3 < |r| \\leq 0.5$ is considered small.\n",
    "* A correlation of $0.5 < |r| \\leq 0.7$ is considered moderate.\n",
    "* A correlation of $0.7 < |r| \\leq 0.9$ is considered high.\n",
    "* A correlation of $0.9 < |r| \\leq 1.0$ is considered very high."
   ]
  },
  {
   "cell_type": "code",
   "execution_count": null,
   "id": "d101d24c53299cbd",
   "metadata": {},
   "outputs": [],
   "source": []
  },
  {
   "cell_type": "markdown",
   "id": "db4c28cbecb458f4",
   "metadata": {},
   "source": [
    "Validate your scores by computing the Pearson correlation again with `scipy.stats.pearsonr`. Print both `r` and the `p` value returned by the function for both the control and the intervention condition. Are the correlations statistically significant at $0.01$ level?"
   ]
  },
  {
   "cell_type": "code",
   "execution_count": null,
   "id": "3b5a473f0782a5",
   "metadata": {},
   "outputs": [],
   "source": []
  },
  {
   "cell_type": "markdown",
   "id": "3c3b6b4b58bfc928",
   "metadata": {},
   "source": [
    "### Task 01.12\n",
    "\n",
    "Write a python function that performs a Welch $t$-test. In particular, your function should:\n",
    "1. compute the number of data points, the mean, and the standard deviation of both samples (use the `ddof = 1` parameter for the `np.std` function).\n",
    "2. compute the pooled standard deviation as\n",
    "\\begin{equation}\n",
    "\\sigma_\\text{pooled} = \\sqrt{\\frac{\\sigma_x^2}{n_x} + \\frac{\\sigma_y^2}{n_y}}\n",
    "\\end{equation}\n",
    "  where $n_x$ and $n_y$ are the number of data points in the two samples and $\\sigma_x$ and $\\sigma_y$ are the respective standard deviations.\n",
    "3. compute the $t$-statistic as \n",
    "\\begin{equation}\n",
    "t = -\\Big|\\frac{\\mu_x - \\mu_y}{\\sigma_\\text{pooled}}\\Big|\n",
    "\\end{equation}\n",
    "  where $\\mu_x$ and $\\mu_y$ are the means of the two samples.\n",
    "4. compute the number of degree of freedom via the Welch-Satterthwaite equation, meaning:\n",
    "\\begin{equation}\n",
    "\\text{df} = \\frac{\\sigma_\\text{pooled}^4}{\\frac{\\sigma_x^4}{n_x^2\\cdot(n_x - 1)} + \\frac{\\sigma_y^4}{n_y^2\\cdot(n_y - 1)}}\n",
    "\\end{equation}\n",
    "5. compute $p$ as twice the probability of any $t$ value equal or smaller to your value using the `cdf` function of `scipy.stats.t` with the number of freedoms as computed in the previous step.\n",
    "\n",
    "Your function should return both $t$ and $p$."
   ]
  },
  {
   "cell_type": "code",
   "execution_count": 3,
   "id": "da720bb7d7ca4c55",
   "metadata": {},
   "outputs": [],
   "source": [
    "def t_test(x, y):\n",
    "    # number of data points\n",
    "    nx = len(x)\n",
    "    ny = len(y)\n",
    "    # means\n",
    "    mx = np.mean(x)\n",
    "    my = np.mean(y)\n",
    "    # standard deviations\n",
    "    sx = np.std(x, ddof = 1)\n",
    "    sy = np.std(y, ddof = 1)\n",
    "\n",
    "    # pooled standard deviation\n",
    "    sp = None # TODO IMPLEMENT THIS\n",
    "\n",
    "    # degrees of freedom\n",
    "    df = None # TODO IMPLEMENT THIS\n",
    "    \n",
    "    # t-statistic\n",
    "    t = None # TODO IMPLEMENT THIS\n",
    "\n",
    "    # cumulative probability\n",
    "    p  = 2*scipy.stats.t.cdf(t, df = df)\n",
    "    \n",
    "    return t, p"
   ]
  },
  {
   "cell_type": "markdown",
   "id": "d62f7cf13d8bf8c2",
   "metadata": {},
   "source": [
    "### Task 01.13\n",
    "\n",
    "Write python code to perform the following Welch tests (using your function):\n",
    "1. the pre-test scores in the control versus the intervention condition\n",
    "2. the post-test scores in the control versus the intervention condition\n",
    "3. the differences between post- and pre-test scores in the control versus the intervention condition\n",
    "\n",
    "For each of the tests, print the $t$ and $p$.\n",
    "\n",
    "Which of the test results are significant at a $0.01$-level?\n",
    "\n",
    "**Hint:** You can validate that your function returns the correct $t$ and $p$ values by comparing to the output of the function `scipy.stats.ttest_ind` with `equal_var = False`."
   ]
  },
  {
   "cell_type": "code",
   "execution_count": null,
   "id": "d79f921815ff5db6",
   "metadata": {},
   "outputs": [],
   "source": []
  },
  {
   "cell_type": "markdown",
   "id": "2e87e84061e296d3",
   "metadata": {},
   "source": [
    "### Task 01.14\n",
    "\n",
    "Compute the effect sizes for the difference in post-test minus pre-test score between control and intervention condition using the formula\n",
    "\n",
    "\\begin{equation}\n",
    "d = \\frac{|\\mu_x - \\mu_y|}{\\sqrt{\\frac{1}{2}(\\sigma_x^2 + \\sigma_y^2)}}\n",
    "\\end{equation}\n",
    "\n",
    "where $\\mu_x$ and $\\mu_y$ are the mean score difference in intervention and control condition and $\\sigma_x$ and $\\sigma_y$ are the respective standard deviations.\n",
    "\n",
    "Print the effect size and interpret the size of the effect using the following rule of thumb (by [Sawilowsky (2009)](https://digitalcommons.wayne.edu/cgi/viewcontent.cgi?article=1536&context=jmasm))\n",
    "* An effect of size $0.01 < d \\leq 0.2$ is considered very small.\n",
    "* An effect of size $0.2 < d \\leq 0.5$ is considered small.\n",
    "* An effect of size $0.5 < d \\leq 0.8$ is considered moderate.\n",
    "* An effect of size $0.8 < d \\leq 1.2$ is considered large.\n",
    "* An effect of size $1.2 < d \\leq 2.0$ is considered very large.\n",
    "* An effect of size $d > 2.0$ is considered huge."
   ]
  },
  {
   "cell_type": "code",
   "execution_count": null,
   "id": "e5482122818e713b",
   "metadata": {},
   "outputs": [],
   "source": []
  }
 ],
 "metadata": {
  "kernelspec": {
   "display_name": "Python 3",
   "language": "python",
   "name": "python3"
  },
  "language_info": {
   "codemirror_mode": {
    "name": "ipython",
    "version": 3
   },
   "file_extension": ".py",
   "mimetype": "text/x-python",
   "name": "python",
   "nbconvert_exporter": "python",
   "pygments_lexer": "ipython3",
   "version": "3.7.6"
  }
 },
 "nbformat": 4,
 "nbformat_minor": 5
}
