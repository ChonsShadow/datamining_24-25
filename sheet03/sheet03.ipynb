{
 "cells": [
  {
   "cell_type": "markdown",
   "id": "c2e647a4",
   "metadata": {},
   "source": [
    "# Exercise Sheet 03: Item response theory and performance factors analysis\n",
    "\n",
    "**Introduction to Data Mining WS24/25**  \n",
    "**Bielefeld University**  \n",
    "**Alina Deriyeva, Adia Khalid, Benjamin Paaßen**  \n",
    "**Exercise Sheet Publication Date: 2024-11-18**  \n",
    "**Exercise Sheet Submission Deadline: Friday, 2024-11-29, noon (i.e. 12:00), via moodle**\n",
    "\n",
    "**NOTE** The use of language models/AI tools is permitted under three conditions\n",
    "1. transparency: you tell us that you used them\n",
    "2. accountability: you take full responsibility for the submission, can explain and defend it\n",
    "3. privacy: you do not transmit any private information to any external tool\n",
    "\n",
    "We also appreciate it if you link to a chatlog of the interaction with the language model/AI tool for research purposes."
   ]
  },
  {
   "cell_type": "markdown",
   "id": "07d0f4c8",
   "metadata": {},
   "source": [
    "### Task 03.01\n",
    "\n",
    "Let $X$ be a random variable that expresses whether a student gets a task right or wrong, let $B$ be a random variable expressing the difficulty of the task, and let $\\Theta$ be a random variable expressing the students' ability. Further, let's assume a one-parameter IRT model, that is:\n",
    "\n",
    "\\begin{equation}\n",
    "p_{X|B,\\Theta}(1|b,\\theta) = \\frac{1}{1 + \\exp[-(\\theta-b)]}.\n",
    "\\end{equation}\n",
    "\n",
    "Finally, assume that $\\Theta$ is standard normally distributed.\n",
    "\n",
    "1. Using the law of total probability, write down the expression for $p_{X|B}(1|b)$.\n",
    "2. Use the following approximation ([Crooks, 2007](https://threeplusone.com/pubs/on_logistic_normal.pdf)) to find a closed-form expression for $p_{X|B}(1|b)$:\n",
    "\\begin{equation}\n",
    "\\int_{-\\infty}^\\infty \\frac{1}{1 + \\exp(-x)} \\cdot N(x|y,1) dx \\approx \\frac{1}{1 + \\exp(-\\sqrt{1 + \\frac{\\pi}{8}} \\cdot y)}\n",
    "\\end{equation}\n",
    "where $N(x|y, 1)$ denotes the Gaussian density for $x$ with mean $y$ and standard deviation $1$.\n",
    "3. Let $q$ be the rate of actual students passing the task. What is the value of $b$ one should set to get $p_{X|B}(x|b) = q$?\n"
   ]
  },
  {
   "cell_type": "markdown",
   "id": "4fe47410",
   "metadata": {},
   "source": [
    "**ANSWER:** PLEASE PROVIDE LATEX CODE OR AN IMAGE OF YOUR DERIVATION HERE"
   ]
  },
  {
   "cell_type": "markdown",
   "id": "2591c02c",
   "metadata": {},
   "source": [
    "## Preamble: Data set\n",
    "\n",
    "The file `sheet03_data.csv` contains fictional data of a class of students completing a set of tasks. Each row indicates a student, each column indicates a task. Each task is only graded as 'passed' (1) or 'failed' (0).\n",
    "\n",
    "The following code loads this raw data and prints it."
   ]
  },
  {
   "cell_type": "code",
   "execution_count": 1,
   "id": "d0d93f7c",
   "metadata": {},
   "outputs": [
    {
     "name": "stdout",
     "output_type": "stream",
     "text": [
      "[[1 1 0 ... 0 1 0]\n",
      " [1 1 0 ... 0 0 0]\n",
      " [1 1 0 ... 0 0 0]\n",
      " ...\n",
      " [0 0 0 ... 0 0 0]\n",
      " [1 0 1 ... 1 1 1]\n",
      " [1 0 0 ... 0 0 0]]\n"
     ]
    }
   ],
   "source": [
    "import numpy as np\n",
    "import matplotlib.pyplot as plt\n",
    "\n",
    "X = np.loadtxt('sheet03_data.csv', skiprows = 1, delimiter = '\\t', dtype=int)\n",
    "N, m = X.shape\n",
    "print(X)"
   ]
  },
  {
   "cell_type": "markdown",
   "id": "4e93d467",
   "metadata": {},
   "source": [
    "### Task 03.02\n",
    "\n",
    "Before we apply any advanced data mining, let us compute some basic statistics to get a sense of the data.\n",
    "\n",
    "Provide a bar plot with the task index on the x axis and the pass rate on the y axis. Don't forget to label your axes.\n",
    "\n",
    "Provide a second bar plot with the student index on the x axis and the pass rate on the y axis. Don't forget to label your axes."
   ]
  },
  {
   "cell_type": "code",
   "execution_count": null,
   "id": "04b3b0e2",
   "metadata": {},
   "outputs": [],
   "source": []
  },
  {
   "cell_type": "markdown",
   "id": "27c9001c",
   "metadata": {},
   "source": [
    "## Item Response Theory\n",
    "\n",
    "Now, we want to fit item response theory models to our data. We will start with a 1-parameter model and then continue with a 2-parameter model.\n",
    "\n",
    "For the former, we will use the [LogisticRegression](https://scikit-learn.org/stable/modules/generated/sklearn.linear_model.LogisticRegression.html) interface from scikit-learn. For the latter, we will use the [girth](https://github.com/eribean/girth) software package."
   ]
  },
  {
   "cell_type": "markdown",
   "id": "9b0a0508",
   "metadata": {},
   "source": [
    "### Task 03.03\n",
    "\n",
    "Right now, our data is in the form of an $N \\times m$ matrix, where $N$ is the number of students and $m$ is the number of tasks. To plug this data into logistic regression, we need to convert it to a different format.\n",
    "\n",
    "1. Prepare a $(N \\cdot m) \\times (N + m)$ matrix `Xlogreg` where each row represents a student-task combination. All entries are zero except for the entries `Xlogreg[i*m+j, i] = 1`, `Xlogreg[i*m+j, N+j] = 1` for all $i \\in \\{0, \\ldots, N-1\\}$ and all $j \\in \\{0, \\ldots, m-1\\}$. This is the feature matrix for our logistic regression.\n",
    "2. Prepare a vector `ylogreg` with $N \\cdot m$ entries where each entry represents a student-task combination and `ylogreg[i*m+j] = X[i, j]` for all $i \\in \\{0, \\ldots, N-1\\}$ and all $j \\in \\{0, \\ldots, m-1\\}$."
   ]
  },
  {
   "cell_type": "code",
   "execution_count": null,
   "id": "cbb6eba1",
   "metadata": {},
   "outputs": [],
   "source": []
  },
  {
   "cell_type": "markdown",
   "id": "14bd54b1",
   "metadata": {},
   "source": [
    "### Task 03.04\n",
    "\n",
    "Use the new format of the data to train an [sklearn.linear_model.LogisticRegression](https://scikit-learn.org/stable/modules/generated/sklearn.linear_model.LogisticRegression.html) model with `penalty = 'l2'`, `C = 1.0`, and `fit_intercept = False`.\n",
    "\n",
    "Report the accuracy of the model by printing the output of the `score` function of the model."
   ]
  },
  {
   "cell_type": "code",
   "execution_count": null,
   "id": "3801de1b",
   "metadata": {},
   "outputs": [],
   "source": []
  },
  {
   "cell_type": "markdown",
   "id": "eba1b3da",
   "metadata": {},
   "source": [
    "### Task 03.05\n",
    "\n",
    "The learned parameters of the model are stored in the `coef_` attribute. The first $N$ parameters represent the estimated student abilities, the last $m$ parameters represent the negative (!) estimated task difficulties.\n",
    "\n",
    "Extract abilities and task difficulties.\n",
    "\n",
    "Provide a scatter plot with estimated task difficulties on the x axis and pass rates on the y axis. Don't forget to label your axes.\n",
    "\n",
    "Provide a scatter plot with estimated student abilities on the x axis and pass rates on the y axis. Don't forget to label your axes."
   ]
  },
  {
   "cell_type": "code",
   "execution_count": null,
   "id": "b9b0baf9",
   "metadata": {},
   "outputs": [],
   "source": []
  },
  {
   "cell_type": "markdown",
   "id": "db026a96",
   "metadata": {},
   "source": [
    "### Task 03.06\n",
    "\n",
    "Plot the item characteristic curve for the second task (item index 1) according to your IRT model. To do so, sample 61 abilities via the `np.linspace` function in the range $[-3, +3]$ and plot the value of the function\n",
    "\n",
    "\\begin{equation*}\n",
    "p(x = 1|\\theta, b_2) = \\frac{1}{1 + \\exp(-(\\theta - b_2))}\n",
    "\\end{equation*}\n",
    "\n",
    "where $b_2$ is the difficulty of the second task and $\\theta$ is the ability."
   ]
  },
  {
   "cell_type": "code",
   "execution_count": null,
   "id": "f28bf57f",
   "metadata": {},
   "outputs": [],
   "source": []
  },
  {
   "cell_type": "markdown",
   "id": "f955e917",
   "metadata": {},
   "source": [
    "### Task 03.07\n",
    "\n",
    "To validate the item characteristic curve of item 2 (see Task 03.05), provide a plot of the pass rate of students within a certain range of abilities. In particular, compute the pass rates for students with an ability between -2.5 and -1.5, between -1.5 and -0.5, between -0.5 and +0.5, beween +0.5 and +1.5, and between +1.5 and +2.5. Then, plot these values on the y axis versus x values -2, -1, 0, +1, +2.\n",
    "\n",
    "Plot the item characteristic curve from task 03.05 as well.\n",
    "\n",
    "Compare the pass rate curve to the item characteristic curve. Are they similar? What is different?"
   ]
  },
  {
   "cell_type": "code",
   "execution_count": null,
   "id": "ce67acc4",
   "metadata": {},
   "outputs": [],
   "source": []
  },
  {
   "cell_type": "markdown",
   "id": "49e34c09",
   "metadata": {},
   "source": [
    "**ANSWER:** "
   ]
  },
  {
   "cell_type": "markdown",
   "id": "8c5febb3",
   "metadata": {},
   "source": [
    "### Preamble: Knowledge Tracing Data set\n",
    "\n",
    "Consider the data set in `kt_data.csv`. This data set contains the exercise results for a population of fictional students and two skills.\n",
    "\n",
    "Each row corresponds to one attempt of one student on an exercise. The first column indicates the student index $i$, the second column the time $t$, the third column the exercise index $j$, the fourth whether this exercise needs the first skill (0 if no, 1 if yes), the fifth column whether this exercise needs the second skill (0 if no, 1 if yes), and the sixth column the outcome of the attempt: 0 for a failure, 1 for a success.\n",
    "\n",
    "The following code loads the raw data and prints it."
   ]
  },
  {
   "cell_type": "code",
   "execution_count": 2,
   "id": "088e884a",
   "metadata": {},
   "outputs": [
    {
     "name": "stdout",
     "output_type": "stream",
     "text": [
      "[[ 0  0  1  1  0  0]\n",
      " [ 0  1  1  1  0  0]\n",
      " [ 0  2  1  1  0  0]\n",
      " [ 0  3  2  0  1  0]\n",
      " [ 0  4  1  1  0  0]\n",
      " [ 0  5  4  1  1  1]\n",
      " [ 0  6  3  0  1  0]\n",
      " [ 0  7  4  1  1  1]\n",
      " [ 0  8  1  1  0  1]\n",
      " [ 0  9  4  1  1  1]\n",
      " [ 0 10  2  0  1  1]\n",
      " [ 1  0  4  1  1  1]\n",
      " [ 1  1  2  0  1  0]\n",
      " [ 1  2  3  0  1  1]\n",
      " [ 1  3  2  0  1  1]\n",
      " [ 1  4  2  0  1  1]\n",
      " [ 1  5  4  1  1  1]\n",
      " [ 1  6  3  0  1  1]\n",
      " [ 1  7  2  0  1  1]\n",
      " [ 1  8  0  1  0  1]\n",
      " [ 2  0  5  1  1  0]\n",
      " [ 2  1  2  0  1  0]\n",
      " [ 2  2  3  0  1  1]\n",
      " [ 2  3  0  1  0  1]\n",
      " [ 2  4  3  0  1  0]\n",
      " [ 2  5  4  1  1  1]\n",
      " [ 2  6  4  1  1  1]\n",
      " [ 2  7  0  1  0  1]\n",
      " [ 2  8  0  1  0  1]\n",
      " [ 2  9  1  1  0  1]\n",
      " [ 3  0  1  1  0  0]\n",
      " [ 3  1  3  0  1  0]\n",
      " [ 3  2  5  1  1  0]\n",
      " [ 3  3  3  0  1  0]\n",
      " [ 3  4  5  1  1  1]\n",
      " [ 3  5  3  0  1  0]\n",
      " [ 3  6  3  0  1  0]\n",
      " [ 3  7  3  0  1  1]\n",
      " [ 3  8  4  1  1  1]\n",
      " [ 3  9  0  1  0  1]\n",
      " [ 3 10  1  1  0  1]\n",
      " [ 4  0  4  1  1  0]\n",
      " [ 4  1  2  0  1  0]\n",
      " [ 4  2  0  1  0  0]\n",
      " [ 4  3  4  1  1  0]\n",
      " [ 4  4  0  1  0  1]\n",
      " [ 4  5  2  0  1  1]\n",
      " [ 4  6  0  1  0  1]\n",
      " [ 4  7  3  0  1  1]\n",
      " [ 4  8  5  1  1  1]\n",
      " [ 4  9  2  0  1  1]\n",
      " [ 5  0  4  1  1  0]\n",
      " [ 5  1  2  0  1  1]\n",
      " [ 5  2  3  0  1  0]\n",
      " [ 5  3  0  1  0  0]\n",
      " [ 5  4  3  0  1  0]\n",
      " [ 5  5  1  1  0  0]\n",
      " [ 5  6  3  0  1  1]\n",
      " [ 5  7  2  0  1  1]\n",
      " [ 5  8  4  1  1  1]\n",
      " [ 5  9  3  0  1  1]\n",
      " [ 6  0  5  1  1  0]\n",
      " [ 6  1  5  1  1  0]\n",
      " [ 6  2  2  0  1  0]\n",
      " [ 6  3  2  0  1  0]\n",
      " [ 6  4  5  1  1  1]\n",
      " [ 6  5  0  1  0  1]\n",
      " [ 6  6  2  0  1  1]\n",
      " [ 6  7  3  0  1  1]\n",
      " [ 6  8  1  1  0  1]\n",
      " [ 6  9  4  1  1  1]\n",
      " [ 7  0  4  1  1  0]\n",
      " [ 7  1  5  1  1  0]\n",
      " [ 7  2  4  1  1  0]\n",
      " [ 7  3  3  0  1  0]\n",
      " [ 7  4  5  1  1  0]\n",
      " [ 7  5  0  1  0  1]\n",
      " [ 7  6  1  1  0  1]\n",
      " [ 7  7  4  1  1  1]\n",
      " [ 7  8  5  1  1  1]\n",
      " [ 7  9  5  1  1  1]]\n"
     ]
    }
   ],
   "source": [
    "import numpy as np\n",
    "import matplotlib.pyplot as plt\n",
    "\n",
    "X = np.loadtxt('kt_data.csv', skiprows = 1, delimiter = '\\t', dtype=int)\n",
    "print(X)"
   ]
  },
  {
   "cell_type": "markdown",
   "id": "f4111360",
   "metadata": {},
   "source": [
    "## Performance Factors analysis\n",
    "\n",
    "\n",
    "Recall the form of a performance factors analysis model: The logit-probability that student $i$ achieves a success at time step $t$, given all their previous successes and failures, is modelled as\n",
    "\n",
    "\\begin{equation}\n",
    "\\sum_{k \\in \\mathcal{K}_{i, t}} \\gamma_k \\cdot s_{i, k, t} + \\rho_k \\cdot f_{i, k, t} + \\beta_k\n",
    "\\end{equation}\n",
    "\n",
    "where $\\mathcal{K}_{i, t}$ is the set of skills needed for the exercise student $i$ attempts at time step $t$, where $s_{i, k, t}$ is the number of past successes of student $i$ on skill $k$ before time step $t$, where $f_{i, k, t}$ is the number of past failures of student $i$ on skill $k$ before time step $t$, and where $\\gamma_k$, $\\rho_k$, and $\\beta_k$ are the parameters of the model.\n",
    "\n",
    "Note that this is, essentially, a logistic regression model, where $s_{i, k, t}$ and $f_{i, k, t}$ are the features and $x_{i, t}$ is the target to be predicted.\n"
   ]
  },
  {
   "cell_type": "markdown",
   "id": "cff099e7",
   "metadata": {},
   "source": [
    "### Task 03.08\n",
    "\n",
    "Find a formula for $\\theta_{i, k, t}$, meaning the amount of skill that student $i$ has achieved in skill $k$ at time $t$ in the PFA model."
   ]
  },
  {
   "cell_type": "markdown",
   "id": "3d4658e2",
   "metadata": {},
   "source": [
    "**ANSWER:** PLEASE PROVIDE LATEX CODE OR AN IMAGE OF YOUR DERIVATION HERE"
   ]
  },
  {
   "cell_type": "markdown",
   "id": "4b136e49",
   "metadata": {},
   "source": [
    "### Task 03.09\n",
    "\n",
    "Convert the data set into a feature matrix `Xlogreg` for a logistic [sklearn.linear_model.LogisticRegression](https://scikit-learn.org/stable/modules/generated/sklearn.linear_model.LogisticRegression.html) model, where each row corresponds to one attempt of one student $i$ on an exercise (just as in the raw data) and where the columns are $s_{i, 1, t}$, $f_{i, 1, t}$, 1, $s_{i, 2, t}$, $f_{i, 2, t}$, and 1 again, meaning the past successes and the past failures for the first and the second skill for student $i$ at time $t$.\n",
    "\n",
    "HOWEVER make sure to set the first three columns to zero in every row where the exercise that student $i$ attempts at time $t$ does not involve the first skill and the last three columns to zero in every row where the exercise does not involve the second skill.\n",
    "\n",
    "**HINT:** Look again at the video in moodle for an example of this process. While this task is not hard to program, per se, the devil is in the details."
   ]
  },
  {
   "cell_type": "code",
   "execution_count": null,
   "id": "20c2373b",
   "metadata": {},
   "outputs": [],
   "source": []
  },
  {
   "cell_type": "markdown",
   "id": "6b44f77c",
   "metadata": {},
   "source": [
    "### Task 03.10\n",
    "\n",
    "Use the matrix `Xlogreg` from Task 03.09 and the last column of `X` (as targets) to train an [sklearn.linear_model.LogisticRegression](https://scikit-learn.org/stable/modules/generated/sklearn.linear_model.LogisticRegression.html) model with `penalty = 'l2'`, `fit_intercept = False`, and `C = 1.0`.\n",
    "\n",
    "Report the accuracy of the model by printing the output of the `score` function of the model."
   ]
  },
  {
   "cell_type": "code",
   "execution_count": null,
   "id": "be03d32a",
   "metadata": {},
   "outputs": [],
   "source": []
  },
  {
   "cell_type": "markdown",
   "id": "972cd3d4",
   "metadata": {},
   "source": [
    "### Task 03.11\n",
    "\n",
    "Print the trained parameters of the model in the following format:\n",
    "\n",
    "```\n",
    "gamma_1 = %g\n",
    "rho_1   = %g\n",
    "beta_1  = %g\n",
    "gamma_2 = %g\n",
    "rho_2   = %g\n",
    "beta_2  = %g\n",
    "```\n",
    "\n",
    "Given these parameters, compute the amount of the first skill for a student with 3 past successes and 1 past failure and print it."
   ]
  },
  {
   "cell_type": "code",
   "execution_count": null,
   "id": "e93a9584",
   "metadata": {},
   "outputs": [],
   "source": []
  },
  {
   "cell_type": "markdown",
   "id": "fac1303b",
   "metadata": {},
   "source": [
    "### Task 03.12\n",
    "\n",
    "For each student in the data set, provide a plot with time on the x axis and the predicted success probability of the performance factors analysis model on the y axis."
   ]
  },
  {
   "cell_type": "code",
   "execution_count": null,
   "id": "4b4d608a",
   "metadata": {},
   "outputs": [],
   "source": []
  },
  {
   "cell_type": "markdown",
   "id": "2d443203",
   "metadata": {},
   "source": [
    "### Task 03.13\n",
    "\n",
    "In the previous task, you probably noticed that the predicted success probability of the performance factors analysis model sometimes drops for later timesteps. Explain this finding."
   ]
  },
  {
   "cell_type": "markdown",
   "id": "8dcf3f0c",
   "metadata": {},
   "source": [
    "**ANSWER:** "
   ]
  }
 ],
 "metadata": {
  "kernelspec": {
   "display_name": "Python 3 (ipykernel)",
   "language": "python",
   "name": "python3"
  },
  "language_info": {
   "codemirror_mode": {
    "name": "ipython",
    "version": 3
   },
   "file_extension": ".py",
   "mimetype": "text/x-python",
   "name": "python",
   "nbconvert_exporter": "python",
   "pygments_lexer": "ipython3",
   "version": "3.11.9"
  }
 },
 "nbformat": 4,
 "nbformat_minor": 5
}
